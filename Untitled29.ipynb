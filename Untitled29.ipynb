{
  "cells": [
    {
      "cell_type": "markdown",
      "metadata": {
        "id": "view-in-github",
        "colab_type": "text"
      },
      "source": [
        "<a href=\"https://colab.research.google.com/github/Vyshnavi253/Credit-Card-Fraud-Detection-/blob/main/Untitled29.ipynb\" target=\"_parent\"><img src=\"https://colab.research.google.com/assets/colab-badge.svg\" alt=\"Open In Colab\"/></a>"
      ]
    },
    {
      "cell_type": "code",
      "execution_count": null,
      "metadata": {
        "id": "l2DY90Veb80O"
      },
      "outputs": [],
      "source": [
        "import numpy as np\n",
        "import pandas as pd\n",
        "\n",
        "from sklearn.preprocessing import StandardScaler\n",
        "from sklearn.model_selection import train_test_split\n",
        "from sklearn.metrics import accuracy_score\n",
        "\n",
        "from sklearn.linear_model import LogisticRegression\n",
        "from sklearn.ensemble import RandomForestClassifier\n",
        "from sklearn.svm import SVC\n",
        "\n",
        "from prettytable import PrettyTable\n",
        "\n",
        "import warnings\n",
        "warnings.filterwarnings(\"ignore\")"
      ]
    },
    {
      "cell_type": "code",
      "execution_count": null,
      "metadata": {
        "colab": {
          "background_save": true
        },
        "id": "nesZHv8bcGJ0"
      },
      "outputs": [],
      "source": [
        "data = pd.read_csv('creditcard.csv')"
      ]
    },
    {
      "cell_type": "code",
      "execution_count": null,
      "metadata": {
        "id": "0l3QSxy3ccSU"
      },
      "outputs": [],
      "source": [
        "data.head(5)"
      ]
    },
    {
      "cell_type": "code",
      "execution_count": null,
      "metadata": {
        "id": "Vyl9H5xqcdJW"
      },
      "outputs": [],
      "source": [
        "data,shape\n"
      ]
    },
    {
      "cell_type": "code",
      "execution_count": null,
      "metadata": {
        "id": "tyGnPDK-cpEV"
      },
      "outputs": [],
      "source": [
        "data.describe()"
      ]
    },
    {
      "cell_type": "code",
      "execution_count": null,
      "metadata": {
        "id": "SXxhvIwhcrv-"
      },
      "outputs": [],
      "source": [
        "data.info()"
      ]
    },
    {
      "cell_type": "code",
      "execution_count": null,
      "metadata": {
        "id": "IMIfvcEuczUB"
      },
      "outputs": [],
      "source": [
        "data.isnull().sum()"
      ]
    },
    {
      "cell_type": "code",
      "execution_count": null,
      "metadata": {
        "id": "V74FXB4pc2_6"
      },
      "outputs": [],
      "source": [
        "data['Class'].value_counts()"
      ]
    },
    {
      "cell_type": "markdown",
      "metadata": {
        "id": "k6O5a4Psc9CX"
      },
      "source": [
        "2.Standard scaler"
      ]
    },
    {
      "cell_type": "code",
      "execution_count": null,
      "metadata": {
        "id": "xI5Dlx7Kc58s"
      },
      "outputs": [],
      "source": [
        "sc = StandardScaler()\n",
        "amount = data['Amount'].values\n",
        "data['Amount'] = sc.fit_transform(amount.reshape(-1, 1))"
      ]
    },
    {
      "cell_type": "code",
      "execution_count": null,
      "metadata": {
        "id": "hOrlamLZdEZs"
      },
      "outputs": [],
      "source": [
        "data.head()"
      ]
    },
    {
      "cell_type": "code",
      "execution_count": null,
      "metadata": {
        "id": "8Qnie3_YdG-g"
      },
      "outputs": [],
      "source": [
        "x = data.drop('Class', axis = 1)\n",
        "y = data['Class']"
      ]
    },
    {
      "cell_type": "code",
      "execution_count": null,
      "metadata": {
        "id": "AiGrs6QldKrc"
      },
      "outputs": [],
      "source": [
        "X_train, X_test, y_train, y_test = train_test_split(x,y,test_size=0.2,random_state=42,shuffle=True)\n"
      ]
    },
    {
      "cell_type": "code",
      "execution_count": null,
      "metadata": {
        "id": "SuOgATVkdfyn"
      },
      "outputs": [],
      "source": [
        "print(\"The shape of X_train is:\",X_train.shape)\n",
        "print(\"The shape of X_test is:\",X_test.shape)\n",
        "print(\"The shape of y_train is:\",y_train.shape)\n",
        "print(\"The shape of y_test is:\",y_test.shape)"
      ]
    },
    {
      "cell_type": "code",
      "execution_count": null,
      "metadata": {
        "id": "kQRIuXaOdlcY"
      },
      "outputs": [],
      "source": [
        "logisticRegression = LogisticRegression()\n",
        "logisticRegression.fit(X_train,y_train)\n",
        "logisticRegression_pred = logisticRegression.predict(X_test)\n",
        "logisticRegression_acc = accuracy_score(y_test, logisticRegression_pred)"
      ]
    },
    {
      "cell_type": "code",
      "execution_count": null,
      "metadata": {
        "id": "HYk9swYOdobM"
      },
      "outputs": [],
      "source": [
        "svc = SVC()\n",
        "svc.fit(X_train, y_train)\n",
        "svc_pred = svc.predict(X_test)\n",
        "svc_acc = accuracy_score(y_test, svc_pred)"
      ]
    },
    {
      "cell_type": "code",
      "execution_count": null,
      "metadata": {
        "id": "piJ0vx3WdrrX"
      },
      "outputs": [],
      "source": [
        "randomForestCls = RandomForestClassifier()\n",
        "randomForestCls.fit(X_train, y_train)\n",
        "randomForestCls_pred = randomForestCls.predict(X_test)\n",
        "randomForestCls_acc = accuracy_score(y_test ,randomForestCls_pred)"
      ]
    },
    {
      "cell_type": "code",
      "execution_count": null,
      "metadata": {
        "id": "4bJ3_CWmdvDa"
      },
      "outputs": [],
      "source": [
        "Table = PrettyTable([\"Algorithm\", \"Accuracy\"])\n",
        "Table.add_row([\"LogisticRegression\", logisticRegression_acc])\n",
        "Table.add_row([\"SVC\", svc_acc])\n",
        "Table.add_row([\"RandomForestClassifier\", randomForestCls_acc])\n",
        "print(Table)"
      ]
    },
    {
      "cell_type": "code",
      "execution_count": null,
      "metadata": {
        "id": "S3uGbDN6dyN9"
      },
      "outputs": [],
      "source": [
        "|       Algorithm        |      Accuracy      |\n",
        "+------------------------+--------------------+\n",
        "|   LogisticRegression   | 0.9986482216214319 |\n",
        "|          SVC           | 0.9982795547909132 |\n",
        "| RandomForestClassifier | 0.9995435553526912 |"
      ]
    }
  ],
  "metadata": {
    "colab": {
      "provenance": [],
      "authorship_tag": "ABX9TyO4alcAsxsAo4w0Pol4ja2n",
      "include_colab_link": true
    },
    "kernelspec": {
      "display_name": "Python 3",
      "name": "python3"
    },
    "language_info": {
      "name": "python"
    }
  },
  "nbformat": 4,
  "nbformat_minor": 0
}